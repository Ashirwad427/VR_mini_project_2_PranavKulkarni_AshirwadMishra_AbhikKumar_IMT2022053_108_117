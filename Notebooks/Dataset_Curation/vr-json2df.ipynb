{
 "cells": [
  {
   "cell_type": "markdown",
   "id": "7a9405a9",
   "metadata": {
    "_cell_guid": "40eeb46a-10a5-40e3-a2e4-a0ff17ef0f56",
    "_uuid": "a68555ce-c977-4cfe-a9c7-009928e6ab37",
    "collapsed": false,
    "jupyter": {
     "outputs_hidden": false
    },
    "papermill": {
     "duration": 0.00745,
     "end_time": "2025-05-02T21:30:49.648200",
     "exception": false,
     "start_time": "2025-05-02T21:30:49.640750",
     "status": "completed"
    },
    "tags": []
   },
   "source": [
    "# Optimized Parsing of ABO Listings Metadata"
   ]
  },
  {
   "cell_type": "code",
   "execution_count": 1,
   "id": "0e72c65f",
   "metadata": {
    "_cell_guid": "3193993a-9023-49a9-846e-0475df4e9ca4",
    "_uuid": "5b911180-b0c1-416a-be07-c562c04bec6e",
    "collapsed": false,
    "execution": {
     "iopub.execute_input": "2025-05-02T21:30:49.662860Z",
     "iopub.status.busy": "2025-05-02T21:30:49.662499Z",
     "iopub.status.idle": "2025-05-02T21:30:51.547492Z",
     "shell.execute_reply": "2025-05-02T21:30:51.546581Z"
    },
    "jupyter": {
     "outputs_hidden": false
    },
    "papermill": {
     "duration": 1.894083,
     "end_time": "2025-05-02T21:30:51.549182",
     "exception": false,
     "start_time": "2025-05-02T21:30:49.655099",
     "status": "completed"
    },
    "tags": []
   },
   "outputs": [],
   "source": [
    "import numpy as np\n",
    "import pandas as pd\n",
    "import os\n",
    "import json\n",
    "from tqdm import tqdm"
   ]
  },
  {
   "cell_type": "markdown",
   "id": "a321ad4a",
   "metadata": {
    "_cell_guid": "8c3e6923-bac9-4709-9a38-46f50dd1cca8",
    "_uuid": "02040165-4217-4134-9359-c98267ce2668",
    "collapsed": false,
    "jupyter": {
     "outputs_hidden": false
    },
    "papermill": {
     "duration": 0.006756,
     "end_time": "2025-05-02T21:30:51.562921",
     "exception": false,
     "start_time": "2025-05-02T21:30:51.556165",
     "status": "completed"
    },
    "tags": []
   },
   "source": [
    "## JSON File Paths"
   ]
  },
  {
   "cell_type": "code",
   "execution_count": 2,
   "id": "52d7f272",
   "metadata": {
    "_cell_guid": "4a71cfed-e64a-484d-97ce-7ae558763ae7",
    "_uuid": "cb58ce3b-0415-4cb4-ba68-27a8a198fa78",
    "collapsed": false,
    "execution": {
     "iopub.execute_input": "2025-05-02T21:30:51.577392Z",
     "iopub.status.busy": "2025-05-02T21:30:51.576956Z",
     "iopub.status.idle": "2025-05-02T21:30:51.581878Z",
     "shell.execute_reply": "2025-05-02T21:30:51.580964Z"
    },
    "jupyter": {
     "outputs_hidden": false
    },
    "papermill": {
     "duration": 0.014049,
     "end_time": "2025-05-02T21:30:51.583406",
     "exception": false,
     "start_time": "2025-05-02T21:30:51.569357",
     "status": "completed"
    },
    "tags": []
   },
   "outputs": [],
   "source": [
    "listings = [\n",
    "    os.path.join(\"/kaggle/input/abo-listings/listings/metadata\", f\"listings_{suffix}.json\")\n",
    "    for suffix in [*map(str, range(10)), 'a', 'b', 'c', 'd', 'e', 'f']\n",
    "]"
   ]
  },
  {
   "cell_type": "markdown",
   "id": "d665b469",
   "metadata": {
    "_cell_guid": "740c94ae-9bdc-4f98-bec2-986923dbfdc6",
    "_uuid": "f541971c-3010-4a3a-bca0-5b23bcc33711",
    "collapsed": false,
    "jupyter": {
     "outputs_hidden": false
    },
    "papermill": {
     "duration": 0.006253,
     "end_time": "2025-05-02T21:30:51.596262",
     "exception": false,
     "start_time": "2025-05-02T21:30:51.590009",
     "status": "completed"
    },
    "tags": []
   },
   "source": [
    "## Extract Fields from a Single JSON Object"
   ]
  },
  {
   "cell_type": "code",
   "execution_count": 3,
   "id": "65ceca30",
   "metadata": {
    "_cell_guid": "d5fe2946-629a-4df6-b283-ad962849f327",
    "_uuid": "67606188-5e96-4b29-ac4c-a677f1701348",
    "collapsed": false,
    "execution": {
     "iopub.execute_input": "2025-05-02T21:30:51.611087Z",
     "iopub.status.busy": "2025-05-02T21:30:51.610417Z",
     "iopub.status.idle": "2025-05-02T21:30:51.617417Z",
     "shell.execute_reply": "2025-05-02T21:30:51.616333Z"
    },
    "jupyter": {
     "outputs_hidden": false
    },
    "papermill": {
     "duration": 0.015806,
     "end_time": "2025-05-02T21:30:51.618837",
     "exception": false,
     "start_time": "2025-05-02T21:30:51.603031",
     "status": "completed"
    },
    "tags": []
   },
   "outputs": [],
   "source": [
    "def extract_fields(json_data: dict) -> dict:\n",
    "    return {\n",
    "        \"bullet_point\": \", \".join([bp[\"value\"] for bp in json_data.get(\"bullet_point\", []) if \"value\" in bp]),\n",
    "        \"color\": \", \".join([c[\"value\"] for c in json_data.get(\"color\", []) if \"value\" in c]),\n",
    "        \"item_keywords\": \", \".join([k[\"value\"] for k in json_data.get(\"item_keywords\", []) if \"value\" in k]),\n",
    "        \"item_name\": \", \".join([n[\"value\"] for n in json_data.get(\"item_name\", []) if \"value\" in n]),\n",
    "        \"main_image_id\": json_data.get(\"main_image_id\", \"\"),\n",
    "        \"other_image_id\": \", \".join(json_data.get(\"other_image_id\", [])),\n",
    "        \"product_type\": \", \".join([p[\"value\"] for p in json_data.get(\"product_type\", []) if \"value\" in p]),\n",
    "    }"
   ]
  },
  {
   "cell_type": "markdown",
   "id": "390db33e",
   "metadata": {
    "_cell_guid": "03b992ec-6e1b-48ea-a114-604fcb81dd46",
    "_uuid": "8ee15790-5160-4cb9-a51c-d3547cc95608",
    "collapsed": false,
    "jupyter": {
     "outputs_hidden": false
    },
    "papermill": {
     "duration": 0.006281,
     "end_time": "2025-05-02T21:30:51.631645",
     "exception": false,
     "start_time": "2025-05-02T21:30:51.625364",
     "status": "completed"
    },
    "tags": []
   },
   "source": [
    "## Load All JSON and Extract Fields"
   ]
  },
  {
   "cell_type": "code",
   "execution_count": 4,
   "id": "f45ce18d",
   "metadata": {
    "_cell_guid": "dd317bc7-cf07-4bcd-b5d6-d0541a0c2309",
    "_uuid": "5014ebcf-1078-46f2-95b1-ea211ac51e87",
    "collapsed": false,
    "execution": {
     "iopub.execute_input": "2025-05-02T21:30:51.645965Z",
     "iopub.status.busy": "2025-05-02T21:30:51.645579Z",
     "iopub.status.idle": "2025-05-02T21:31:08.120837Z",
     "shell.execute_reply": "2025-05-02T21:31:08.119895Z"
    },
    "jupyter": {
     "outputs_hidden": false
    },
    "papermill": {
     "duration": 16.484087,
     "end_time": "2025-05-02T21:31:08.122218",
     "exception": false,
     "start_time": "2025-05-02T21:30:51.638131",
     "status": "completed"
    },
    "tags": []
   },
   "outputs": [
    {
     "name": "stderr",
     "output_type": "stream",
     "text": [
      "Processing listings: 100%|██████████| 16/16 [00:16<00:00,  1.03s/it]\n"
     ]
    }
   ],
   "source": [
    "all_data = []\n",
    "\n",
    "for listing in tqdm(listings, desc=\"Processing listings\"):\n",
    "    with open(listing, \"r\", encoding=\"utf-8\") as f:\n",
    "        for line in f:\n",
    "            line = line.strip()\n",
    "            if line:\n",
    "                json_obj = json.loads(line)\n",
    "                extracted = extract_fields(json_obj)\n",
    "                all_data.append(extracted)"
   ]
  },
  {
   "cell_type": "markdown",
   "id": "17b2fec6",
   "metadata": {
    "_cell_guid": "3cc2c5b6-ccaf-4ef8-8eed-694790ff2c92",
    "_uuid": "dcf97530-1eb1-48e6-9bb6-7e371d19bbf4",
    "collapsed": false,
    "jupyter": {
     "outputs_hidden": false
    },
    "papermill": {
     "duration": 0.007123,
     "end_time": "2025-05-02T21:31:08.137144",
     "exception": false,
     "start_time": "2025-05-02T21:31:08.130021",
     "status": "completed"
    },
    "tags": []
   },
   "source": [
    "## Create DataFrame and Save"
   ]
  },
  {
   "cell_type": "code",
   "execution_count": 5,
   "id": "74009692",
   "metadata": {
    "_cell_guid": "2769358d-855d-45db-b066-eee3501a8bca",
    "_uuid": "e4e0a86f-6416-4b25-833e-ceeb4bbd666c",
    "collapsed": false,
    "execution": {
     "iopub.execute_input": "2025-05-02T21:31:08.153281Z",
     "iopub.status.busy": "2025-05-02T21:31:08.152948Z",
     "iopub.status.idle": "2025-05-02T21:31:17.989926Z",
     "shell.execute_reply": "2025-05-02T21:31:17.988920Z"
    },
    "jupyter": {
     "outputs_hidden": false
    },
    "papermill": {
     "duration": 9.847098,
     "end_time": "2025-05-02T21:31:17.991598",
     "exception": false,
     "start_time": "2025-05-02T21:31:08.144500",
     "status": "completed"
    },
    "tags": []
   },
   "outputs": [
    {
     "data": {
      "text/html": [
       "<div>\n",
       "<style scoped>\n",
       "    .dataframe tbody tr th:only-of-type {\n",
       "        vertical-align: middle;\n",
       "    }\n",
       "\n",
       "    .dataframe tbody tr th {\n",
       "        vertical-align: top;\n",
       "    }\n",
       "\n",
       "    .dataframe thead th {\n",
       "        text-align: right;\n",
       "    }\n",
       "</style>\n",
       "<table border=\"1\" class=\"dataframe\">\n",
       "  <thead>\n",
       "    <tr style=\"text-align: right;\">\n",
       "      <th></th>\n",
       "      <th>bullet_point</th>\n",
       "      <th>color</th>\n",
       "      <th>item_keywords</th>\n",
       "      <th>item_name</th>\n",
       "      <th>main_image_id</th>\n",
       "      <th>other_image_id</th>\n",
       "      <th>product_type</th>\n",
       "    </tr>\n",
       "  </thead>\n",
       "  <tbody>\n",
       "    <tr>\n",
       "      <th>0</th>\n",
       "      <td>Schoen in Loafer-stijl, Platform hak, Cap teen...</td>\n",
       "      <td>Veelkleurig Vrouw Blauw</td>\n",
       "      <td>block heel shoes, loafer shoes, loafers, metal...</td>\n",
       "      <td>Amazon-merk - vinden. Dames Leder Gesloten Tee...</td>\n",
       "      <td>81iZlv3bjpL</td>\n",
       "      <td>91mIRxgziUL, 91eqBkW06wL, A1BHZSKNbkL</td>\n",
       "      <td>SHOES</td>\n",
       "    </tr>\n",
       "    <tr>\n",
       "      <th>1</th>\n",
       "      <td>White Powder Coat Finish, 55-Lbs max weight ca...</td>\n",
       "      <td>White Powder Coat</td>\n",
       "      <td>22, Pistola, Montaje bajo, diapositivas, Exten...</td>\n",
       "      <td>22\" Bottom Mount Drawer Slides, White Powder C...</td>\n",
       "      <td>619y9YG9cnL</td>\n",
       "      <td>51Fqps5k9YL, 51lCKFuYuWL</td>\n",
       "      <td>HARDWARE</td>\n",
       "    </tr>\n",
       "    <tr>\n",
       "      <th>2</th>\n",
       "      <td>3D printer filament with 1.75mm diameter + / -...</td>\n",
       "      <td>Translucent Yellow</td>\n",
       "      <td>3d printer filament, petg printer filament, pe...</td>\n",
       "      <td>AmazonBasics PETG 3D Printer Filament, 1.75mm,...</td>\n",
       "      <td>81NP7qh2L6L</td>\n",
       "      <td>81A0u5L4VAL, 61xhS6iLrZL</td>\n",
       "      <td>MECHANICAL_COMPONENTS</td>\n",
       "    </tr>\n",
       "    <tr>\n",
       "      <th>3</th>\n",
       "      <td></td>\n",
       "      <td>Stone Brown</td>\n",
       "      <td>love, loveseat, queen, for, couch, chesterfiel...</td>\n",
       "      <td>Stone &amp; Beam Stone Brown Swatch, 25020039-01</td>\n",
       "      <td>61Rp4qOih9L</td>\n",
       "      <td></td>\n",
       "      <td>SOFA</td>\n",
       "    </tr>\n",
       "    <tr>\n",
       "      <th>4</th>\n",
       "      <td>Embroidered flowers bloom against understated ...</td>\n",
       "      <td>Havana Tan</td>\n",
       "      <td>zapatos shoe para de ladies mujer womans mocas...</td>\n",
       "      <td>The Fix Amazon Brand Women's French Floral Emb...</td>\n",
       "      <td>714CmIfKIYL</td>\n",
       "      <td>71C4hQAAs2L, 718uEco1DAL, 71BMHcaG5GL, 7105JsM...</td>\n",
       "      <td>SHOES</td>\n",
       "    </tr>\n",
       "  </tbody>\n",
       "</table>\n",
       "</div>"
      ],
      "text/plain": [
       "                                        bullet_point                    color  \\\n",
       "0  Schoen in Loafer-stijl, Platform hak, Cap teen...  Veelkleurig Vrouw Blauw   \n",
       "1  White Powder Coat Finish, 55-Lbs max weight ca...        White Powder Coat   \n",
       "2  3D printer filament with 1.75mm diameter + / -...       Translucent Yellow   \n",
       "3                                                                 Stone Brown   \n",
       "4  Embroidered flowers bloom against understated ...               Havana Tan   \n",
       "\n",
       "                                       item_keywords  \\\n",
       "0  block heel shoes, loafer shoes, loafers, metal...   \n",
       "1  22, Pistola, Montaje bajo, diapositivas, Exten...   \n",
       "2  3d printer filament, petg printer filament, pe...   \n",
       "3  love, loveseat, queen, for, couch, chesterfiel...   \n",
       "4  zapatos shoe para de ladies mujer womans mocas...   \n",
       "\n",
       "                                           item_name main_image_id  \\\n",
       "0  Amazon-merk - vinden. Dames Leder Gesloten Tee...   81iZlv3bjpL   \n",
       "1  22\" Bottom Mount Drawer Slides, White Powder C...   619y9YG9cnL   \n",
       "2  AmazonBasics PETG 3D Printer Filament, 1.75mm,...   81NP7qh2L6L   \n",
       "3       Stone & Beam Stone Brown Swatch, 25020039-01   61Rp4qOih9L   \n",
       "4  The Fix Amazon Brand Women's French Floral Emb...   714CmIfKIYL   \n",
       "\n",
       "                                      other_image_id           product_type  \n",
       "0              91mIRxgziUL, 91eqBkW06wL, A1BHZSKNbkL                  SHOES  \n",
       "1                           51Fqps5k9YL, 51lCKFuYuWL               HARDWARE  \n",
       "2                           81A0u5L4VAL, 61xhS6iLrZL  MECHANICAL_COMPONENTS  \n",
       "3                                                                      SOFA  \n",
       "4  71C4hQAAs2L, 718uEco1DAL, 71BMHcaG5GL, 7105JsM...                  SHOES  "
      ]
     },
     "execution_count": 5,
     "metadata": {},
     "output_type": "execute_result"
    }
   ],
   "source": [
    "json_df = pd.DataFrame(all_data)\n",
    "json_df.to_csv(\"JSON_metadata.csv\", index=False)\n",
    "json_df.head()"
   ]
  },
  {
   "cell_type": "code",
   "execution_count": 6,
   "id": "eb0fe0ac",
   "metadata": {
    "execution": {
     "iopub.execute_input": "2025-05-02T21:31:18.038813Z",
     "iopub.status.busy": "2025-05-02T21:31:18.038436Z",
     "iopub.status.idle": "2025-05-02T21:31:18.064853Z",
     "shell.execute_reply": "2025-05-02T21:31:18.063682Z"
    },
    "papermill": {
     "duration": 0.056264,
     "end_time": "2025-05-02T21:31:18.067127",
     "exception": false,
     "start_time": "2025-05-02T21:31:18.010863",
     "status": "completed"
    },
    "tags": []
   },
   "outputs": [
    {
     "data": {
      "text/html": [
       "<div>\n",
       "<style scoped>\n",
       "    .dataframe tbody tr th:only-of-type {\n",
       "        vertical-align: middle;\n",
       "    }\n",
       "\n",
       "    .dataframe tbody tr th {\n",
       "        vertical-align: top;\n",
       "    }\n",
       "\n",
       "    .dataframe thead th {\n",
       "        text-align: right;\n",
       "    }\n",
       "</style>\n",
       "<table border=\"1\" class=\"dataframe\">\n",
       "  <thead>\n",
       "    <tr style=\"text-align: right;\">\n",
       "      <th></th>\n",
       "      <th>bullet_point</th>\n",
       "      <th>color</th>\n",
       "      <th>item_keywords</th>\n",
       "      <th>item_name</th>\n",
       "      <th>main_image_id</th>\n",
       "      <th>other_image_id</th>\n",
       "      <th>product_type</th>\n",
       "    </tr>\n",
       "  </thead>\n",
       "  <tbody>\n",
       "    <tr>\n",
       "      <th>0</th>\n",
       "      <td>Schoen in Loafer-stijl, Platform hak, Cap teen...</td>\n",
       "      <td>Veelkleurig Vrouw Blauw</td>\n",
       "      <td>block heel shoes, loafer shoes, loafers, metal...</td>\n",
       "      <td>Amazon-merk - vinden. Dames Leder Gesloten Tee...</td>\n",
       "      <td>81iZlv3bjpL</td>\n",
       "      <td>91mIRxgziUL, 91eqBkW06wL, A1BHZSKNbkL</td>\n",
       "      <td>SHOES</td>\n",
       "    </tr>\n",
       "    <tr>\n",
       "      <th>1</th>\n",
       "      <td>White Powder Coat Finish, 55-Lbs max weight ca...</td>\n",
       "      <td>White Powder Coat</td>\n",
       "      <td>22, Pistola, Montaje bajo, diapositivas, Exten...</td>\n",
       "      <td>22\" Bottom Mount Drawer Slides, White Powder C...</td>\n",
       "      <td>619y9YG9cnL</td>\n",
       "      <td>51Fqps5k9YL, 51lCKFuYuWL</td>\n",
       "      <td>HARDWARE</td>\n",
       "    </tr>\n",
       "    <tr>\n",
       "      <th>2</th>\n",
       "      <td>3D printer filament with 1.75mm diameter + / -...</td>\n",
       "      <td>Translucent Yellow</td>\n",
       "      <td>3d printer filament, petg printer filament, pe...</td>\n",
       "      <td>AmazonBasics PETG 3D Printer Filament, 1.75mm,...</td>\n",
       "      <td>81NP7qh2L6L</td>\n",
       "      <td>81A0u5L4VAL, 61xhS6iLrZL</td>\n",
       "      <td>MECHANICAL_COMPONENTS</td>\n",
       "    </tr>\n",
       "    <tr>\n",
       "      <th>3</th>\n",
       "      <td></td>\n",
       "      <td>Stone Brown</td>\n",
       "      <td>love, loveseat, queen, for, couch, chesterfiel...</td>\n",
       "      <td>Stone &amp; Beam Stone Brown Swatch, 25020039-01</td>\n",
       "      <td>61Rp4qOih9L</td>\n",
       "      <td></td>\n",
       "      <td>SOFA</td>\n",
       "    </tr>\n",
       "    <tr>\n",
       "      <th>4</th>\n",
       "      <td>Embroidered flowers bloom against understated ...</td>\n",
       "      <td>Havana Tan</td>\n",
       "      <td>zapatos shoe para de ladies mujer womans mocas...</td>\n",
       "      <td>The Fix Amazon Brand Women's French Floral Emb...</td>\n",
       "      <td>714CmIfKIYL</td>\n",
       "      <td>71C4hQAAs2L, 718uEco1DAL, 71BMHcaG5GL, 7105JsM...</td>\n",
       "      <td>SHOES</td>\n",
       "    </tr>\n",
       "    <tr>\n",
       "      <th>...</th>\n",
       "      <td>...</td>\n",
       "      <td>...</td>\n",
       "      <td>...</td>\n",
       "      <td>...</td>\n",
       "      <td>...</td>\n",
       "      <td>...</td>\n",
       "      <td>...</td>\n",
       "    </tr>\n",
       "    <tr>\n",
       "      <th>147697</th>\n",
       "      <td>20 l de capacidad, plato giratorio de 255 mm; ...</td>\n",
       "      <td>Negro, PRETO</td>\n",
       "      <td>microondas vintage whirlpool negro retro con g...</td>\n",
       "      <td>AmazonBasics – Microondas de mesa básico, 20 l...</td>\n",
       "      <td>81kGQ8Ee4GL</td>\n",
       "      <td>61KK9iFayRL, 81ZYLcDq73L, 817zeFMNUoL, 71yZNXA...</td>\n",
       "      <td>KITCHEN</td>\n",
       "    </tr>\n",
       "    <tr>\n",
       "      <th>147698</th>\n",
       "      <td>Snug fit for Mobile, with perfect cut-outs for...</td>\n",
       "      <td>multi-colored</td>\n",
       "      <td>mobile cover, back cover, mobile case, phone c...</td>\n",
       "      <td>Amazon Brand - Solimo Designer Abstract 3D Pri...</td>\n",
       "      <td>71nav9ipOvL</td>\n",
       "      <td>51AbYbblgmL, 51PN64bqb9L, 51kP9HdPKhL</td>\n",
       "      <td>CELLULAR_PHONE_CASE</td>\n",
       "    </tr>\n",
       "    <tr>\n",
       "      <th>147699</th>\n",
       "      <td>Brought to you by Whole Foods Market.  Our sta...</td>\n",
       "      <td></td>\n",
       "      <td>whole foods, whole food, Whole Foods,365 Every...</td>\n",
       "      <td>365 EVERYDAY VALUE Organic Quinoa, 16 OZ</td>\n",
       "      <td>81p6d30KuXL</td>\n",
       "      <td>61D30IYy5SL, 61LmfMnHhEL, 31bVipuH8DL, 813NWGn...</td>\n",
       "      <td>GROCERY</td>\n",
       "    </tr>\n",
       "    <tr>\n",
       "      <th>147700</th>\n",
       "      <td></td>\n",
       "      <td></td>\n",
       "      <td></td>\n",
       "      <td>Stone &amp; Beam - Alfombra Informal a Cuadros</td>\n",
       "      <td>A1ae0BZpo3L</td>\n",
       "      <td>81PfG9IAnKL, A1cI56l34lL, 91ajo7z2NHL, A1rHn5A...</td>\n",
       "      <td>HOME_FURNITURE_AND_DECOR</td>\n",
       "    </tr>\n",
       "    <tr>\n",
       "      <th>147701</th>\n",
       "      <td>Elastic strap in outer lining</td>\n",
       "      <td></td>\n",
       "      <td></td>\n",
       "      <td>Amazon Brand - find. Men’s Espadrilles</td>\n",
       "      <td>81fnxlzmiYL</td>\n",
       "      <td>81YNklsz4dL, A1+VHY23fgL, 913lKMbp7OL, 91Tl-bK...</td>\n",
       "      <td>SHOES</td>\n",
       "    </tr>\n",
       "  </tbody>\n",
       "</table>\n",
       "<p>147702 rows × 7 columns</p>\n",
       "</div>"
      ],
      "text/plain": [
       "                                             bullet_point  \\\n",
       "0       Schoen in Loafer-stijl, Platform hak, Cap teen...   \n",
       "1       White Powder Coat Finish, 55-Lbs max weight ca...   \n",
       "2       3D printer filament with 1.75mm diameter + / -...   \n",
       "3                                                           \n",
       "4       Embroidered flowers bloom against understated ...   \n",
       "...                                                   ...   \n",
       "147697  20 l de capacidad, plato giratorio de 255 mm; ...   \n",
       "147698  Snug fit for Mobile, with perfect cut-outs for...   \n",
       "147699  Brought to you by Whole Foods Market.  Our sta...   \n",
       "147700                                                      \n",
       "147701                      Elastic strap in outer lining   \n",
       "\n",
       "                          color  \\\n",
       "0       Veelkleurig Vrouw Blauw   \n",
       "1             White Powder Coat   \n",
       "2            Translucent Yellow   \n",
       "3                   Stone Brown   \n",
       "4                    Havana Tan   \n",
       "...                         ...   \n",
       "147697             Negro, PRETO   \n",
       "147698            multi-colored   \n",
       "147699                            \n",
       "147700                            \n",
       "147701                            \n",
       "\n",
       "                                            item_keywords  \\\n",
       "0       block heel shoes, loafer shoes, loafers, metal...   \n",
       "1       22, Pistola, Montaje bajo, diapositivas, Exten...   \n",
       "2       3d printer filament, petg printer filament, pe...   \n",
       "3       love, loveseat, queen, for, couch, chesterfiel...   \n",
       "4       zapatos shoe para de ladies mujer womans mocas...   \n",
       "...                                                   ...   \n",
       "147697  microondas vintage whirlpool negro retro con g...   \n",
       "147698  mobile cover, back cover, mobile case, phone c...   \n",
       "147699  whole foods, whole food, Whole Foods,365 Every...   \n",
       "147700                                                      \n",
       "147701                                                      \n",
       "\n",
       "                                                item_name main_image_id  \\\n",
       "0       Amazon-merk - vinden. Dames Leder Gesloten Tee...   81iZlv3bjpL   \n",
       "1       22\" Bottom Mount Drawer Slides, White Powder C...   619y9YG9cnL   \n",
       "2       AmazonBasics PETG 3D Printer Filament, 1.75mm,...   81NP7qh2L6L   \n",
       "3            Stone & Beam Stone Brown Swatch, 25020039-01   61Rp4qOih9L   \n",
       "4       The Fix Amazon Brand Women's French Floral Emb...   714CmIfKIYL   \n",
       "...                                                   ...           ...   \n",
       "147697  AmazonBasics – Microondas de mesa básico, 20 l...   81kGQ8Ee4GL   \n",
       "147698  Amazon Brand - Solimo Designer Abstract 3D Pri...   71nav9ipOvL   \n",
       "147699           365 EVERYDAY VALUE Organic Quinoa, 16 OZ   81p6d30KuXL   \n",
       "147700         Stone & Beam - Alfombra Informal a Cuadros   A1ae0BZpo3L   \n",
       "147701             Amazon Brand - find. Men’s Espadrilles   81fnxlzmiYL   \n",
       "\n",
       "                                           other_image_id  \\\n",
       "0                   91mIRxgziUL, 91eqBkW06wL, A1BHZSKNbkL   \n",
       "1                                51Fqps5k9YL, 51lCKFuYuWL   \n",
       "2                                81A0u5L4VAL, 61xhS6iLrZL   \n",
       "3                                                           \n",
       "4       71C4hQAAs2L, 718uEco1DAL, 71BMHcaG5GL, 7105JsM...   \n",
       "...                                                   ...   \n",
       "147697  61KK9iFayRL, 81ZYLcDq73L, 817zeFMNUoL, 71yZNXA...   \n",
       "147698              51AbYbblgmL, 51PN64bqb9L, 51kP9HdPKhL   \n",
       "147699  61D30IYy5SL, 61LmfMnHhEL, 31bVipuH8DL, 813NWGn...   \n",
       "147700  81PfG9IAnKL, A1cI56l34lL, 91ajo7z2NHL, A1rHn5A...   \n",
       "147701  81YNklsz4dL, A1+VHY23fgL, 913lKMbp7OL, 91Tl-bK...   \n",
       "\n",
       "                    product_type  \n",
       "0                          SHOES  \n",
       "1                       HARDWARE  \n",
       "2          MECHANICAL_COMPONENTS  \n",
       "3                           SOFA  \n",
       "4                          SHOES  \n",
       "...                          ...  \n",
       "147697                   KITCHEN  \n",
       "147698       CELLULAR_PHONE_CASE  \n",
       "147699                   GROCERY  \n",
       "147700  HOME_FURNITURE_AND_DECOR  \n",
       "147701                     SHOES  \n",
       "\n",
       "[147702 rows x 7 columns]"
      ]
     },
     "execution_count": 6,
     "metadata": {},
     "output_type": "execute_result"
    }
   ],
   "source": [
    "json_df"
   ]
  },
  {
   "cell_type": "markdown",
   "id": "ba150543",
   "metadata": {
    "papermill": {
     "duration": 0.047326,
     "end_time": "2025-05-02T21:31:18.161791",
     "exception": false,
     "start_time": "2025-05-02T21:31:18.114465",
     "status": "completed"
    },
    "tags": []
   },
   "source": [
    "# Merging the image metadata and the created json_df"
   ]
  },
  {
   "cell_type": "code",
   "execution_count": 7,
   "id": "be436552",
   "metadata": {
    "execution": {
     "iopub.execute_input": "2025-05-02T21:31:18.182363Z",
     "iopub.status.busy": "2025-05-02T21:31:18.182047Z",
     "iopub.status.idle": "2025-05-02T21:31:18.936838Z",
     "shell.execute_reply": "2025-05-02T21:31:18.935953Z"
    },
    "papermill": {
     "duration": 0.768157,
     "end_time": "2025-05-02T21:31:18.938646",
     "exception": false,
     "start_time": "2025-05-02T21:31:18.170489",
     "status": "completed"
    },
    "tags": []
   },
   "outputs": [
    {
     "data": {
      "text/html": [
       "<div>\n",
       "<style scoped>\n",
       "    .dataframe tbody tr th:only-of-type {\n",
       "        vertical-align: middle;\n",
       "    }\n",
       "\n",
       "    .dataframe tbody tr th {\n",
       "        vertical-align: top;\n",
       "    }\n",
       "\n",
       "    .dataframe thead th {\n",
       "        text-align: right;\n",
       "    }\n",
       "</style>\n",
       "<table border=\"1\" class=\"dataframe\">\n",
       "  <thead>\n",
       "    <tr style=\"text-align: right;\">\n",
       "      <th></th>\n",
       "      <th>image_id</th>\n",
       "      <th>height</th>\n",
       "      <th>width</th>\n",
       "      <th>path</th>\n",
       "    </tr>\n",
       "  </thead>\n",
       "  <tbody>\n",
       "    <tr>\n",
       "      <th>0</th>\n",
       "      <td>010-mllS7JL</td>\n",
       "      <td>106</td>\n",
       "      <td>106</td>\n",
       "      <td>14/14fe8812.jpg</td>\n",
       "    </tr>\n",
       "    <tr>\n",
       "      <th>1</th>\n",
       "      <td>01dkn0Gyx0L</td>\n",
       "      <td>122</td>\n",
       "      <td>122</td>\n",
       "      <td>da/daab0cad.jpg</td>\n",
       "    </tr>\n",
       "    <tr>\n",
       "      <th>2</th>\n",
       "      <td>01sUPg0387L</td>\n",
       "      <td>111</td>\n",
       "      <td>111</td>\n",
       "      <td>d2/d2daaae9.jpg</td>\n",
       "    </tr>\n",
       "    <tr>\n",
       "      <th>3</th>\n",
       "      <td>1168jc-5r1L</td>\n",
       "      <td>186</td>\n",
       "      <td>186</td>\n",
       "      <td>3a/3a4e88e6.jpg</td>\n",
       "    </tr>\n",
       "    <tr>\n",
       "      <th>4</th>\n",
       "      <td>11RUV5Fs65L</td>\n",
       "      <td>30</td>\n",
       "      <td>500</td>\n",
       "      <td>d9/d91ab9cf.jpg</td>\n",
       "    </tr>\n",
       "    <tr>\n",
       "      <th>...</th>\n",
       "      <td>...</td>\n",
       "      <td>...</td>\n",
       "      <td>...</td>\n",
       "      <td>...</td>\n",
       "    </tr>\n",
       "    <tr>\n",
       "      <th>398207</th>\n",
       "      <td>B1zv8OpTkBS</td>\n",
       "      <td>2560</td>\n",
       "      <td>2560</td>\n",
       "      <td>6d/6d49d130.jpg</td>\n",
       "    </tr>\n",
       "    <tr>\n",
       "      <th>398208</th>\n",
       "      <td>B1zwflWhPIS</td>\n",
       "      <td>2560</td>\n",
       "      <td>2560</td>\n",
       "      <td>b1/b163e0ea.jpg</td>\n",
       "    </tr>\n",
       "    <tr>\n",
       "      <th>398209</th>\n",
       "      <td>C1lf45DhhRS</td>\n",
       "      <td>2560</td>\n",
       "      <td>2560</td>\n",
       "      <td>a1/a116d9d1.jpg</td>\n",
       "    </tr>\n",
       "    <tr>\n",
       "      <th>398210</th>\n",
       "      <td>C1pEt6jBLiS</td>\n",
       "      <td>2560</td>\n",
       "      <td>2560</td>\n",
       "      <td>9c/9c3e1158.jpg</td>\n",
       "    </tr>\n",
       "    <tr>\n",
       "      <th>398211</th>\n",
       "      <td>C1sCYAz8NAS</td>\n",
       "      <td>2560</td>\n",
       "      <td>2560</td>\n",
       "      <td>cf/cf112e38.jpg</td>\n",
       "    </tr>\n",
       "  </tbody>\n",
       "</table>\n",
       "<p>398212 rows × 4 columns</p>\n",
       "</div>"
      ],
      "text/plain": [
       "           image_id  height  width             path\n",
       "0       010-mllS7JL     106    106  14/14fe8812.jpg\n",
       "1       01dkn0Gyx0L     122    122  da/daab0cad.jpg\n",
       "2       01sUPg0387L     111    111  d2/d2daaae9.jpg\n",
       "3       1168jc-5r1L     186    186  3a/3a4e88e6.jpg\n",
       "4       11RUV5Fs65L      30    500  d9/d91ab9cf.jpg\n",
       "...             ...     ...    ...              ...\n",
       "398207  B1zv8OpTkBS    2560   2560  6d/6d49d130.jpg\n",
       "398208  B1zwflWhPIS    2560   2560  b1/b163e0ea.jpg\n",
       "398209  C1lf45DhhRS    2560   2560  a1/a116d9d1.jpg\n",
       "398210  C1pEt6jBLiS    2560   2560  9c/9c3e1158.jpg\n",
       "398211  C1sCYAz8NAS    2560   2560  cf/cf112e38.jpg\n",
       "\n",
       "[398212 rows x 4 columns]"
      ]
     },
     "execution_count": 7,
     "metadata": {},
     "output_type": "execute_result"
    }
   ],
   "source": [
    "image_metadata = pd.read_csv(\"/kaggle/input/abo-small/images/metadata/images.csv\")\n",
    "image_metadata"
   ]
  },
  {
   "cell_type": "code",
   "execution_count": 8,
   "id": "983c878e",
   "metadata": {
    "execution": {
     "iopub.execute_input": "2025-05-02T21:31:18.957921Z",
     "iopub.status.busy": "2025-05-02T21:31:18.957176Z",
     "iopub.status.idle": "2025-05-02T21:31:18.964076Z",
     "shell.execute_reply": "2025-05-02T21:31:18.963199Z"
    },
    "papermill": {
     "duration": 0.017401,
     "end_time": "2025-05-02T21:31:18.965401",
     "exception": false,
     "start_time": "2025-05-02T21:31:18.948000",
     "status": "completed"
    },
    "tags": []
   },
   "outputs": [],
   "source": [
    "image_metadata.rename(columns = {\"image_id\" : \"main_image_id\"}, inplace = True)"
   ]
  },
  {
   "cell_type": "code",
   "execution_count": 9,
   "id": "e25d682b",
   "metadata": {
    "execution": {
     "iopub.execute_input": "2025-05-02T21:31:18.985557Z",
     "iopub.status.busy": "2025-05-02T21:31:18.985206Z",
     "iopub.status.idle": "2025-05-02T21:31:18.995580Z",
     "shell.execute_reply": "2025-05-02T21:31:18.994545Z"
    },
    "papermill": {
     "duration": 0.023337,
     "end_time": "2025-05-02T21:31:18.996995",
     "exception": false,
     "start_time": "2025-05-02T21:31:18.973658",
     "status": "completed"
    },
    "tags": []
   },
   "outputs": [
    {
     "data": {
      "text/html": [
       "<div>\n",
       "<style scoped>\n",
       "    .dataframe tbody tr th:only-of-type {\n",
       "        vertical-align: middle;\n",
       "    }\n",
       "\n",
       "    .dataframe tbody tr th {\n",
       "        vertical-align: top;\n",
       "    }\n",
       "\n",
       "    .dataframe thead th {\n",
       "        text-align: right;\n",
       "    }\n",
       "</style>\n",
       "<table border=\"1\" class=\"dataframe\">\n",
       "  <thead>\n",
       "    <tr style=\"text-align: right;\">\n",
       "      <th></th>\n",
       "      <th>main_image_id</th>\n",
       "      <th>height</th>\n",
       "      <th>width</th>\n",
       "      <th>path</th>\n",
       "    </tr>\n",
       "  </thead>\n",
       "  <tbody>\n",
       "    <tr>\n",
       "      <th>0</th>\n",
       "      <td>010-mllS7JL</td>\n",
       "      <td>106</td>\n",
       "      <td>106</td>\n",
       "      <td>14/14fe8812.jpg</td>\n",
       "    </tr>\n",
       "    <tr>\n",
       "      <th>1</th>\n",
       "      <td>01dkn0Gyx0L</td>\n",
       "      <td>122</td>\n",
       "      <td>122</td>\n",
       "      <td>da/daab0cad.jpg</td>\n",
       "    </tr>\n",
       "    <tr>\n",
       "      <th>2</th>\n",
       "      <td>01sUPg0387L</td>\n",
       "      <td>111</td>\n",
       "      <td>111</td>\n",
       "      <td>d2/d2daaae9.jpg</td>\n",
       "    </tr>\n",
       "    <tr>\n",
       "      <th>3</th>\n",
       "      <td>1168jc-5r1L</td>\n",
       "      <td>186</td>\n",
       "      <td>186</td>\n",
       "      <td>3a/3a4e88e6.jpg</td>\n",
       "    </tr>\n",
       "    <tr>\n",
       "      <th>4</th>\n",
       "      <td>11RUV5Fs65L</td>\n",
       "      <td>30</td>\n",
       "      <td>500</td>\n",
       "      <td>d9/d91ab9cf.jpg</td>\n",
       "    </tr>\n",
       "    <tr>\n",
       "      <th>...</th>\n",
       "      <td>...</td>\n",
       "      <td>...</td>\n",
       "      <td>...</td>\n",
       "      <td>...</td>\n",
       "    </tr>\n",
       "    <tr>\n",
       "      <th>398207</th>\n",
       "      <td>B1zv8OpTkBS</td>\n",
       "      <td>2560</td>\n",
       "      <td>2560</td>\n",
       "      <td>6d/6d49d130.jpg</td>\n",
       "    </tr>\n",
       "    <tr>\n",
       "      <th>398208</th>\n",
       "      <td>B1zwflWhPIS</td>\n",
       "      <td>2560</td>\n",
       "      <td>2560</td>\n",
       "      <td>b1/b163e0ea.jpg</td>\n",
       "    </tr>\n",
       "    <tr>\n",
       "      <th>398209</th>\n",
       "      <td>C1lf45DhhRS</td>\n",
       "      <td>2560</td>\n",
       "      <td>2560</td>\n",
       "      <td>a1/a116d9d1.jpg</td>\n",
       "    </tr>\n",
       "    <tr>\n",
       "      <th>398210</th>\n",
       "      <td>C1pEt6jBLiS</td>\n",
       "      <td>2560</td>\n",
       "      <td>2560</td>\n",
       "      <td>9c/9c3e1158.jpg</td>\n",
       "    </tr>\n",
       "    <tr>\n",
       "      <th>398211</th>\n",
       "      <td>C1sCYAz8NAS</td>\n",
       "      <td>2560</td>\n",
       "      <td>2560</td>\n",
       "      <td>cf/cf112e38.jpg</td>\n",
       "    </tr>\n",
       "  </tbody>\n",
       "</table>\n",
       "<p>398212 rows × 4 columns</p>\n",
       "</div>"
      ],
      "text/plain": [
       "       main_image_id  height  width             path\n",
       "0        010-mllS7JL     106    106  14/14fe8812.jpg\n",
       "1        01dkn0Gyx0L     122    122  da/daab0cad.jpg\n",
       "2        01sUPg0387L     111    111  d2/d2daaae9.jpg\n",
       "3        1168jc-5r1L     186    186  3a/3a4e88e6.jpg\n",
       "4        11RUV5Fs65L      30    500  d9/d91ab9cf.jpg\n",
       "...              ...     ...    ...              ...\n",
       "398207   B1zv8OpTkBS    2560   2560  6d/6d49d130.jpg\n",
       "398208   B1zwflWhPIS    2560   2560  b1/b163e0ea.jpg\n",
       "398209   C1lf45DhhRS    2560   2560  a1/a116d9d1.jpg\n",
       "398210   C1pEt6jBLiS    2560   2560  9c/9c3e1158.jpg\n",
       "398211   C1sCYAz8NAS    2560   2560  cf/cf112e38.jpg\n",
       "\n",
       "[398212 rows x 4 columns]"
      ]
     },
     "execution_count": 9,
     "metadata": {},
     "output_type": "execute_result"
    }
   ],
   "source": [
    "image_metadata"
   ]
  },
  {
   "cell_type": "code",
   "execution_count": 10,
   "id": "af299afe",
   "metadata": {
    "execution": {
     "iopub.execute_input": "2025-05-02T21:31:19.017622Z",
     "iopub.status.busy": "2025-05-02T21:31:19.017301Z",
     "iopub.status.idle": "2025-05-02T21:31:19.332318Z",
     "shell.execute_reply": "2025-05-02T21:31:19.331609Z"
    },
    "papermill": {
     "duration": 0.328367,
     "end_time": "2025-05-02T21:31:19.333871",
     "exception": false,
     "start_time": "2025-05-02T21:31:19.005504",
     "status": "completed"
    },
    "tags": []
   },
   "outputs": [],
   "source": [
    "final_df = pd.merge(json_df, image_metadata, on = \"main_image_id\", how = \"left\")"
   ]
  },
  {
   "cell_type": "code",
   "execution_count": 11,
   "id": "b04ef69d",
   "metadata": {
    "execution": {
     "iopub.execute_input": "2025-05-02T21:31:19.351610Z",
     "iopub.status.busy": "2025-05-02T21:31:19.351312Z",
     "iopub.status.idle": "2025-05-02T21:31:19.365947Z",
     "shell.execute_reply": "2025-05-02T21:31:19.365186Z"
    },
    "papermill": {
     "duration": 0.024876,
     "end_time": "2025-05-02T21:31:19.367158",
     "exception": false,
     "start_time": "2025-05-02T21:31:19.342282",
     "status": "completed"
    },
    "tags": []
   },
   "outputs": [
    {
     "data": {
      "text/html": [
       "<div>\n",
       "<style scoped>\n",
       "    .dataframe tbody tr th:only-of-type {\n",
       "        vertical-align: middle;\n",
       "    }\n",
       "\n",
       "    .dataframe tbody tr th {\n",
       "        vertical-align: top;\n",
       "    }\n",
       "\n",
       "    .dataframe thead th {\n",
       "        text-align: right;\n",
       "    }\n",
       "</style>\n",
       "<table border=\"1\" class=\"dataframe\">\n",
       "  <thead>\n",
       "    <tr style=\"text-align: right;\">\n",
       "      <th></th>\n",
       "      <th>bullet_point</th>\n",
       "      <th>color</th>\n",
       "      <th>item_keywords</th>\n",
       "      <th>item_name</th>\n",
       "      <th>main_image_id</th>\n",
       "      <th>other_image_id</th>\n",
       "      <th>product_type</th>\n",
       "      <th>height</th>\n",
       "      <th>width</th>\n",
       "      <th>path</th>\n",
       "    </tr>\n",
       "  </thead>\n",
       "  <tbody>\n",
       "    <tr>\n",
       "      <th>0</th>\n",
       "      <td>Schoen in Loafer-stijl, Platform hak, Cap teen...</td>\n",
       "      <td>Veelkleurig Vrouw Blauw</td>\n",
       "      <td>block heel shoes, loafer shoes, loafers, metal...</td>\n",
       "      <td>Amazon-merk - vinden. Dames Leder Gesloten Tee...</td>\n",
       "      <td>81iZlv3bjpL</td>\n",
       "      <td>91mIRxgziUL, 91eqBkW06wL, A1BHZSKNbkL</td>\n",
       "      <td>SHOES</td>\n",
       "      <td>2560.0</td>\n",
       "      <td>1969.0</td>\n",
       "      <td>8c/8ccb5859.jpg</td>\n",
       "    </tr>\n",
       "    <tr>\n",
       "      <th>1</th>\n",
       "      <td>White Powder Coat Finish, 55-Lbs max weight ca...</td>\n",
       "      <td>White Powder Coat</td>\n",
       "      <td>22, Pistola, Montaje bajo, diapositivas, Exten...</td>\n",
       "      <td>22\" Bottom Mount Drawer Slides, White Powder C...</td>\n",
       "      <td>619y9YG9cnL</td>\n",
       "      <td>51Fqps5k9YL, 51lCKFuYuWL</td>\n",
       "      <td>HARDWARE</td>\n",
       "      <td>1200.0</td>\n",
       "      <td>1200.0</td>\n",
       "      <td>9f/9f76d27b.jpg</td>\n",
       "    </tr>\n",
       "    <tr>\n",
       "      <th>2</th>\n",
       "      <td>3D printer filament with 1.75mm diameter + / -...</td>\n",
       "      <td>Translucent Yellow</td>\n",
       "      <td>3d printer filament, petg printer filament, pe...</td>\n",
       "      <td>AmazonBasics PETG 3D Printer Filament, 1.75mm,...</td>\n",
       "      <td>81NP7qh2L6L</td>\n",
       "      <td>81A0u5L4VAL, 61xhS6iLrZL</td>\n",
       "      <td>MECHANICAL_COMPONENTS</td>\n",
       "      <td>2492.0</td>\n",
       "      <td>2492.0</td>\n",
       "      <td>66/665cc994.jpg</td>\n",
       "    </tr>\n",
       "    <tr>\n",
       "      <th>3</th>\n",
       "      <td></td>\n",
       "      <td>Stone Brown</td>\n",
       "      <td>love, loveseat, queen, for, couch, chesterfiel...</td>\n",
       "      <td>Stone &amp; Beam Stone Brown Swatch, 25020039-01</td>\n",
       "      <td>61Rp4qOih9L</td>\n",
       "      <td></td>\n",
       "      <td>SOFA</td>\n",
       "      <td>500.0</td>\n",
       "      <td>500.0</td>\n",
       "      <td>b4/b4f9d0cc.jpg</td>\n",
       "    </tr>\n",
       "    <tr>\n",
       "      <th>4</th>\n",
       "      <td>Embroidered flowers bloom against understated ...</td>\n",
       "      <td>Havana Tan</td>\n",
       "      <td>zapatos shoe para de ladies mujer womans mocas...</td>\n",
       "      <td>The Fix Amazon Brand Women's French Floral Emb...</td>\n",
       "      <td>714CmIfKIYL</td>\n",
       "      <td>71C4hQAAs2L, 718uEco1DAL, 71BMHcaG5GL, 7105JsM...</td>\n",
       "      <td>SHOES</td>\n",
       "      <td>868.0</td>\n",
       "      <td>1779.0</td>\n",
       "      <td>2b/2b1c2516.jpg</td>\n",
       "    </tr>\n",
       "    <tr>\n",
       "      <th>...</th>\n",
       "      <td>...</td>\n",
       "      <td>...</td>\n",
       "      <td>...</td>\n",
       "      <td>...</td>\n",
       "      <td>...</td>\n",
       "      <td>...</td>\n",
       "      <td>...</td>\n",
       "      <td>...</td>\n",
       "      <td>...</td>\n",
       "      <td>...</td>\n",
       "    </tr>\n",
       "    <tr>\n",
       "      <th>147697</th>\n",
       "      <td>20 l de capacidad, plato giratorio de 255 mm; ...</td>\n",
       "      <td>Negro, PRETO</td>\n",
       "      <td>microondas vintage whirlpool negro retro con g...</td>\n",
       "      <td>AmazonBasics – Microondas de mesa básico, 20 l...</td>\n",
       "      <td>81kGQ8Ee4GL</td>\n",
       "      <td>61KK9iFayRL, 81ZYLcDq73L, 817zeFMNUoL, 71yZNXA...</td>\n",
       "      <td>KITCHEN</td>\n",
       "      <td>2560.0</td>\n",
       "      <td>2560.0</td>\n",
       "      <td>98/98336d77.jpg</td>\n",
       "    </tr>\n",
       "    <tr>\n",
       "      <th>147698</th>\n",
       "      <td>Snug fit for Mobile, with perfect cut-outs for...</td>\n",
       "      <td>multi-colored</td>\n",
       "      <td>mobile cover, back cover, mobile case, phone c...</td>\n",
       "      <td>Amazon Brand - Solimo Designer Abstract 3D Pri...</td>\n",
       "      <td>71nav9ipOvL</td>\n",
       "      <td>51AbYbblgmL, 51PN64bqb9L, 51kP9HdPKhL</td>\n",
       "      <td>CELLULAR_PHONE_CASE</td>\n",
       "      <td>1444.0</td>\n",
       "      <td>755.0</td>\n",
       "      <td>e2/e2d9aa3e.jpg</td>\n",
       "    </tr>\n",
       "    <tr>\n",
       "      <th>147699</th>\n",
       "      <td>Brought to you by Whole Foods Market.  Our sta...</td>\n",
       "      <td></td>\n",
       "      <td>whole foods, whole food, Whole Foods,365 Every...</td>\n",
       "      <td>365 EVERYDAY VALUE Organic Quinoa, 16 OZ</td>\n",
       "      <td>81p6d30KuXL</td>\n",
       "      <td>61D30IYy5SL, 61LmfMnHhEL, 31bVipuH8DL, 813NWGn...</td>\n",
       "      <td>GROCERY</td>\n",
       "      <td>2560.0</td>\n",
       "      <td>1584.0</td>\n",
       "      <td>c0/c089b2d7.jpg</td>\n",
       "    </tr>\n",
       "    <tr>\n",
       "      <th>147700</th>\n",
       "      <td></td>\n",
       "      <td></td>\n",
       "      <td></td>\n",
       "      <td>Stone &amp; Beam - Alfombra Informal a Cuadros</td>\n",
       "      <td>A1ae0BZpo3L</td>\n",
       "      <td>81PfG9IAnKL, A1cI56l34lL, 91ajo7z2NHL, A1rHn5A...</td>\n",
       "      <td>HOME_FURNITURE_AND_DECOR</td>\n",
       "      <td>2560.0</td>\n",
       "      <td>2560.0</td>\n",
       "      <td>c0/c0e15c5f.jpg</td>\n",
       "    </tr>\n",
       "    <tr>\n",
       "      <th>147701</th>\n",
       "      <td>Elastic strap in outer lining</td>\n",
       "      <td></td>\n",
       "      <td></td>\n",
       "      <td>Amazon Brand - find. Men’s Espadrilles</td>\n",
       "      <td>81fnxlzmiYL</td>\n",
       "      <td>81YNklsz4dL, A1+VHY23fgL, 913lKMbp7OL, 91Tl-bK...</td>\n",
       "      <td>SHOES</td>\n",
       "      <td>2511.0</td>\n",
       "      <td>2560.0</td>\n",
       "      <td>02/02d80612.jpg</td>\n",
       "    </tr>\n",
       "  </tbody>\n",
       "</table>\n",
       "<p>147702 rows × 10 columns</p>\n",
       "</div>"
      ],
      "text/plain": [
       "                                             bullet_point  \\\n",
       "0       Schoen in Loafer-stijl, Platform hak, Cap teen...   \n",
       "1       White Powder Coat Finish, 55-Lbs max weight ca...   \n",
       "2       3D printer filament with 1.75mm diameter + / -...   \n",
       "3                                                           \n",
       "4       Embroidered flowers bloom against understated ...   \n",
       "...                                                   ...   \n",
       "147697  20 l de capacidad, plato giratorio de 255 mm; ...   \n",
       "147698  Snug fit for Mobile, with perfect cut-outs for...   \n",
       "147699  Brought to you by Whole Foods Market.  Our sta...   \n",
       "147700                                                      \n",
       "147701                      Elastic strap in outer lining   \n",
       "\n",
       "                          color  \\\n",
       "0       Veelkleurig Vrouw Blauw   \n",
       "1             White Powder Coat   \n",
       "2            Translucent Yellow   \n",
       "3                   Stone Brown   \n",
       "4                    Havana Tan   \n",
       "...                         ...   \n",
       "147697             Negro, PRETO   \n",
       "147698            multi-colored   \n",
       "147699                            \n",
       "147700                            \n",
       "147701                            \n",
       "\n",
       "                                            item_keywords  \\\n",
       "0       block heel shoes, loafer shoes, loafers, metal...   \n",
       "1       22, Pistola, Montaje bajo, diapositivas, Exten...   \n",
       "2       3d printer filament, petg printer filament, pe...   \n",
       "3       love, loveseat, queen, for, couch, chesterfiel...   \n",
       "4       zapatos shoe para de ladies mujer womans mocas...   \n",
       "...                                                   ...   \n",
       "147697  microondas vintage whirlpool negro retro con g...   \n",
       "147698  mobile cover, back cover, mobile case, phone c...   \n",
       "147699  whole foods, whole food, Whole Foods,365 Every...   \n",
       "147700                                                      \n",
       "147701                                                      \n",
       "\n",
       "                                                item_name main_image_id  \\\n",
       "0       Amazon-merk - vinden. Dames Leder Gesloten Tee...   81iZlv3bjpL   \n",
       "1       22\" Bottom Mount Drawer Slides, White Powder C...   619y9YG9cnL   \n",
       "2       AmazonBasics PETG 3D Printer Filament, 1.75mm,...   81NP7qh2L6L   \n",
       "3            Stone & Beam Stone Brown Swatch, 25020039-01   61Rp4qOih9L   \n",
       "4       The Fix Amazon Brand Women's French Floral Emb...   714CmIfKIYL   \n",
       "...                                                   ...           ...   \n",
       "147697  AmazonBasics – Microondas de mesa básico, 20 l...   81kGQ8Ee4GL   \n",
       "147698  Amazon Brand - Solimo Designer Abstract 3D Pri...   71nav9ipOvL   \n",
       "147699           365 EVERYDAY VALUE Organic Quinoa, 16 OZ   81p6d30KuXL   \n",
       "147700         Stone & Beam - Alfombra Informal a Cuadros   A1ae0BZpo3L   \n",
       "147701             Amazon Brand - find. Men’s Espadrilles   81fnxlzmiYL   \n",
       "\n",
       "                                           other_image_id  \\\n",
       "0                   91mIRxgziUL, 91eqBkW06wL, A1BHZSKNbkL   \n",
       "1                                51Fqps5k9YL, 51lCKFuYuWL   \n",
       "2                                81A0u5L4VAL, 61xhS6iLrZL   \n",
       "3                                                           \n",
       "4       71C4hQAAs2L, 718uEco1DAL, 71BMHcaG5GL, 7105JsM...   \n",
       "...                                                   ...   \n",
       "147697  61KK9iFayRL, 81ZYLcDq73L, 817zeFMNUoL, 71yZNXA...   \n",
       "147698              51AbYbblgmL, 51PN64bqb9L, 51kP9HdPKhL   \n",
       "147699  61D30IYy5SL, 61LmfMnHhEL, 31bVipuH8DL, 813NWGn...   \n",
       "147700  81PfG9IAnKL, A1cI56l34lL, 91ajo7z2NHL, A1rHn5A...   \n",
       "147701  81YNklsz4dL, A1+VHY23fgL, 913lKMbp7OL, 91Tl-bK...   \n",
       "\n",
       "                    product_type  height   width             path  \n",
       "0                          SHOES  2560.0  1969.0  8c/8ccb5859.jpg  \n",
       "1                       HARDWARE  1200.0  1200.0  9f/9f76d27b.jpg  \n",
       "2          MECHANICAL_COMPONENTS  2492.0  2492.0  66/665cc994.jpg  \n",
       "3                           SOFA   500.0   500.0  b4/b4f9d0cc.jpg  \n",
       "4                          SHOES   868.0  1779.0  2b/2b1c2516.jpg  \n",
       "...                          ...     ...     ...              ...  \n",
       "147697                   KITCHEN  2560.0  2560.0  98/98336d77.jpg  \n",
       "147698       CELLULAR_PHONE_CASE  1444.0   755.0  e2/e2d9aa3e.jpg  \n",
       "147699                   GROCERY  2560.0  1584.0  c0/c089b2d7.jpg  \n",
       "147700  HOME_FURNITURE_AND_DECOR  2560.0  2560.0  c0/c0e15c5f.jpg  \n",
       "147701                     SHOES  2511.0  2560.0  02/02d80612.jpg  \n",
       "\n",
       "[147702 rows x 10 columns]"
      ]
     },
     "execution_count": 11,
     "metadata": {},
     "output_type": "execute_result"
    }
   ],
   "source": [
    "final_df"
   ]
  },
  {
   "cell_type": "code",
   "execution_count": 12,
   "id": "61087380",
   "metadata": {
    "execution": {
     "iopub.execute_input": "2025-05-02T21:31:19.385668Z",
     "iopub.status.busy": "2025-05-02T21:31:19.385363Z",
     "iopub.status.idle": "2025-05-02T21:31:19.434544Z",
     "shell.execute_reply": "2025-05-02T21:31:19.433583Z"
    },
    "papermill": {
     "duration": 0.060274,
     "end_time": "2025-05-02T21:31:19.436224",
     "exception": false,
     "start_time": "2025-05-02T21:31:19.375950",
     "status": "completed"
    },
    "tags": []
   },
   "outputs": [],
   "source": [
    "final_df.drop(columns = ['height', 'width'], inplace = True)"
   ]
  },
  {
   "cell_type": "markdown",
   "id": "9e160487",
   "metadata": {
    "papermill": {
     "duration": 0.071316,
     "end_time": "2025-05-02T21:31:19.516447",
     "exception": false,
     "start_time": "2025-05-02T21:31:19.445131",
     "status": "completed"
    },
    "tags": []
   },
   "source": [
    "# Checking and Removing Duplicates"
   ]
  },
  {
   "cell_type": "code",
   "execution_count": 13,
   "id": "47f05ab2",
   "metadata": {
    "execution": {
     "iopub.execute_input": "2025-05-02T21:31:19.534997Z",
     "iopub.status.busy": "2025-05-02T21:31:19.534660Z",
     "iopub.status.idle": "2025-05-02T21:31:20.635261Z",
     "shell.execute_reply": "2025-05-02T21:31:20.634466Z"
    },
    "papermill": {
     "duration": 1.111585,
     "end_time": "2025-05-02T21:31:20.636820",
     "exception": false,
     "start_time": "2025-05-02T21:31:19.525235",
     "status": "completed"
    },
    "tags": []
   },
   "outputs": [
    {
     "data": {
      "text/plain": [
       "291"
      ]
     },
     "execution_count": 13,
     "metadata": {},
     "output_type": "execute_result"
    }
   ],
   "source": [
    "final_df.duplicated().sum()"
   ]
  },
  {
   "cell_type": "code",
   "execution_count": 14,
   "id": "198437e7",
   "metadata": {
    "execution": {
     "iopub.execute_input": "2025-05-02T21:31:20.656137Z",
     "iopub.status.busy": "2025-05-02T21:31:20.655489Z",
     "iopub.status.idle": "2025-05-02T21:31:21.579024Z",
     "shell.execute_reply": "2025-05-02T21:31:21.578008Z"
    },
    "papermill": {
     "duration": 0.934806,
     "end_time": "2025-05-02T21:31:21.580649",
     "exception": false,
     "start_time": "2025-05-02T21:31:20.645843",
     "status": "completed"
    },
    "tags": []
   },
   "outputs": [],
   "source": [
    "final_df.drop_duplicates(inplace=True)"
   ]
  },
  {
   "cell_type": "code",
   "execution_count": 15,
   "id": "a861fe05",
   "metadata": {
    "execution": {
     "iopub.execute_input": "2025-05-02T21:31:21.600169Z",
     "iopub.status.busy": "2025-05-02T21:31:21.599367Z",
     "iopub.status.idle": "2025-05-02T21:31:22.479078Z",
     "shell.execute_reply": "2025-05-02T21:31:22.478231Z"
    },
    "papermill": {
     "duration": 0.890934,
     "end_time": "2025-05-02T21:31:22.480484",
     "exception": false,
     "start_time": "2025-05-02T21:31:21.589550",
     "status": "completed"
    },
    "tags": []
   },
   "outputs": [
    {
     "data": {
      "text/plain": [
       "0"
      ]
     },
     "execution_count": 15,
     "metadata": {},
     "output_type": "execute_result"
    }
   ],
   "source": [
    "final_df.duplicated().sum()"
   ]
  },
  {
   "cell_type": "markdown",
   "id": "485bf926",
   "metadata": {
    "papermill": {
     "duration": 0.00928,
     "end_time": "2025-05-02T21:31:22.498753",
     "exception": false,
     "start_time": "2025-05-02T21:31:22.489473",
     "status": "completed"
    },
    "tags": []
   },
   "source": [
    "# Checking and Removing Null Values"
   ]
  },
  {
   "cell_type": "code",
   "execution_count": 16,
   "id": "020709fd",
   "metadata": {
    "execution": {
     "iopub.execute_input": "2025-05-02T21:31:22.519059Z",
     "iopub.status.busy": "2025-05-02T21:31:22.518780Z",
     "iopub.status.idle": "2025-05-02T21:31:22.662837Z",
     "shell.execute_reply": "2025-05-02T21:31:22.662001Z"
    },
    "papermill": {
     "duration": 0.156102,
     "end_time": "2025-05-02T21:31:22.664366",
     "exception": false,
     "start_time": "2025-05-02T21:31:22.508264",
     "status": "completed"
    },
    "tags": []
   },
   "outputs": [
    {
     "data": {
      "text/plain": [
       "bullet_point        0\n",
       "color               0\n",
       "item_keywords       0\n",
       "item_name           0\n",
       "main_image_id       0\n",
       "other_image_id      0\n",
       "product_type        0\n",
       "path              555\n",
       "dtype: int64"
      ]
     },
     "execution_count": 16,
     "metadata": {},
     "output_type": "execute_result"
    }
   ],
   "source": [
    "final_df.isnull().sum()"
   ]
  },
  {
   "cell_type": "code",
   "execution_count": 17,
   "id": "2149ef4a",
   "metadata": {
    "execution": {
     "iopub.execute_input": "2025-05-02T21:31:22.683995Z",
     "iopub.status.busy": "2025-05-02T21:31:22.683372Z",
     "iopub.status.idle": "2025-05-02T21:31:22.740748Z",
     "shell.execute_reply": "2025-05-02T21:31:22.739824Z"
    },
    "papermill": {
     "duration": 0.068999,
     "end_time": "2025-05-02T21:31:22.742365",
     "exception": false,
     "start_time": "2025-05-02T21:31:22.673366",
     "status": "completed"
    },
    "tags": []
   },
   "outputs": [],
   "source": [
    "final_df = final_df[~final_df['path'].isna()]"
   ]
  },
  {
   "cell_type": "code",
   "execution_count": 18,
   "id": "d6b55b47",
   "metadata": {
    "execution": {
     "iopub.execute_input": "2025-05-02T21:31:22.762172Z",
     "iopub.status.busy": "2025-05-02T21:31:22.761381Z",
     "iopub.status.idle": "2025-05-02T21:31:22.915455Z",
     "shell.execute_reply": "2025-05-02T21:31:22.914746Z"
    },
    "papermill": {
     "duration": 0.165249,
     "end_time": "2025-05-02T21:31:22.916860",
     "exception": false,
     "start_time": "2025-05-02T21:31:22.751611",
     "status": "completed"
    },
    "tags": []
   },
   "outputs": [
    {
     "data": {
      "text/plain": [
       "bullet_point      0\n",
       "color             0\n",
       "item_keywords     0\n",
       "item_name         0\n",
       "main_image_id     0\n",
       "other_image_id    0\n",
       "product_type      0\n",
       "path              0\n",
       "dtype: int64"
      ]
     },
     "execution_count": 18,
     "metadata": {},
     "output_type": "execute_result"
    }
   ],
   "source": [
    "final_df.isnull().sum()"
   ]
  },
  {
   "cell_type": "markdown",
   "id": "aef48d59",
   "metadata": {
    "papermill": {
     "duration": 0.008709,
     "end_time": "2025-05-02T21:31:22.934775",
     "exception": false,
     "start_time": "2025-05-02T21:31:22.926066",
     "status": "completed"
    },
    "tags": []
   },
   "source": [
    "# Removing Inconsistent Image Ids"
   ]
  },
  {
   "cell_type": "code",
   "execution_count": 19,
   "id": "dd973295",
   "metadata": {
    "execution": {
     "iopub.execute_input": "2025-05-02T21:31:22.954017Z",
     "iopub.status.busy": "2025-05-02T21:31:22.953329Z",
     "iopub.status.idle": "2025-05-02T21:31:22.960597Z",
     "shell.execute_reply": "2025-05-02T21:31:22.959766Z"
    },
    "papermill": {
     "duration": 0.018487,
     "end_time": "2025-05-02T21:31:22.962048",
     "exception": false,
     "start_time": "2025-05-02T21:31:22.943561",
     "status": "completed"
    },
    "tags": []
   },
   "outputs": [],
   "source": [
    " import pandas as pd\n",
    "\n",
    "def build_main_image_dict(final_df: pd.DataFrame) -> dict:\n",
    "    \"\"\"\n",
    "    For each main_image_id in final_df, find all valid image paths for itself and its other_image_ids.\n",
    "    Return only those where at least two valid paths exist.\n",
    "    \"\"\"\n",
    "    # Step 1: Build mapping from image_id to its path\n",
    "    image_id_to_path = pd.Series(final_df['path'].values, index=final_df['main_image_id']).to_dict()\n",
    "\n",
    "    # Step 2: Build the main_image_id → [paths] dictionary\n",
    "    result = {}\n",
    "\n",
    "    for _, row in final_df.iterrows():\n",
    "        main_id = row['main_image_id']\n",
    "        other_ids = str(row['other_image_id']).split(',') if pd.notna(row['other_image_id']) else []\n",
    "\n",
    "        all_ids = [main_id] + [img_id.strip() for img_id in other_ids]\n",
    "        \n",
    "        # Collect valid paths (skip missing or NaNs)\n",
    "        valid_paths = []\n",
    "        for img_id in all_ids:\n",
    "            path = image_id_to_path.get(img_id)\n",
    "            if isinstance(path, str) and not pd.isna(path):\n",
    "                valid_paths.append(path)\n",
    "\n",
    "        # Keep only if there are at least 2 valid paths\n",
    "        if len(valid_paths) >= 2:\n",
    "            result[main_id] = valid_paths\n",
    "\n",
    "    return result"
   ]
  },
  {
   "cell_type": "code",
   "execution_count": 20,
   "id": "5400c903",
   "metadata": {
    "execution": {
     "iopub.execute_input": "2025-05-02T21:31:22.982176Z",
     "iopub.status.busy": "2025-05-02T21:31:22.981875Z",
     "iopub.status.idle": "2025-05-02T21:31:30.595602Z",
     "shell.execute_reply": "2025-05-02T21:31:30.594537Z"
    },
    "papermill": {
     "duration": 7.62637,
     "end_time": "2025-05-02T21:31:30.597346",
     "exception": false,
     "start_time": "2025-05-02T21:31:22.970976",
     "status": "completed"
    },
    "tags": []
   },
   "outputs": [],
   "source": [
    "filtered_image_dict = build_main_image_dict(final_df)"
   ]
  },
  {
   "cell_type": "code",
   "execution_count": 21,
   "id": "209aade2",
   "metadata": {
    "execution": {
     "iopub.execute_input": "2025-05-02T21:31:30.617158Z",
     "iopub.status.busy": "2025-05-02T21:31:30.616493Z",
     "iopub.status.idle": "2025-05-02T21:31:30.621879Z",
     "shell.execute_reply": "2025-05-02T21:31:30.620988Z"
    },
    "papermill": {
     "duration": 0.01672,
     "end_time": "2025-05-02T21:31:30.623299",
     "exception": false,
     "start_time": "2025-05-02T21:31:30.606579",
     "status": "completed"
    },
    "tags": []
   },
   "outputs": [
    {
     "data": {
      "text/plain": [
       "2457"
      ]
     },
     "execution_count": 21,
     "metadata": {},
     "output_type": "execute_result"
    }
   ],
   "source": [
    "len(filtered_image_dict)"
   ]
  },
  {
   "cell_type": "code",
   "execution_count": 22,
   "id": "0d58c124",
   "metadata": {
    "execution": {
     "iopub.execute_input": "2025-05-02T21:31:30.643994Z",
     "iopub.status.busy": "2025-05-02T21:31:30.643261Z",
     "iopub.status.idle": "2025-05-02T21:31:30.647167Z",
     "shell.execute_reply": "2025-05-02T21:31:30.646347Z"
    },
    "papermill": {
     "duration": 0.015857,
     "end_time": "2025-05-02T21:31:30.648526",
     "exception": false,
     "start_time": "2025-05-02T21:31:30.632669",
     "status": "completed"
    },
    "tags": []
   },
   "outputs": [],
   "source": [
    "keys = []"
   ]
  },
  {
   "cell_type": "code",
   "execution_count": 23,
   "id": "b86099dc",
   "metadata": {
    "execution": {
     "iopub.execute_input": "2025-05-02T21:31:30.668370Z",
     "iopub.status.busy": "2025-05-02T21:31:30.667753Z",
     "iopub.status.idle": "2025-05-02T21:31:30.672307Z",
     "shell.execute_reply": "2025-05-02T21:31:30.671557Z"
    },
    "papermill": {
     "duration": 0.016162,
     "end_time": "2025-05-02T21:31:30.673961",
     "exception": false,
     "start_time": "2025-05-02T21:31:30.657799",
     "status": "completed"
    },
    "tags": []
   },
   "outputs": [],
   "source": [
    "for key, value in filtered_image_dict.items():\n",
    "    keys.append(key)"
   ]
  },
  {
   "cell_type": "code",
   "execution_count": 24,
   "id": "04d75af2",
   "metadata": {
    "execution": {
     "iopub.execute_input": "2025-05-02T21:31:30.693675Z",
     "iopub.status.busy": "2025-05-02T21:31:30.693403Z",
     "iopub.status.idle": "2025-05-02T21:31:30.699289Z",
     "shell.execute_reply": "2025-05-02T21:31:30.698466Z"
    },
    "papermill": {
     "duration": 0.017206,
     "end_time": "2025-05-02T21:31:30.700672",
     "exception": false,
     "start_time": "2025-05-02T21:31:30.683466",
     "status": "completed"
    },
    "tags": []
   },
   "outputs": [
    {
     "data": {
      "text/plain": [
       "2457"
      ]
     },
     "execution_count": 24,
     "metadata": {},
     "output_type": "execute_result"
    }
   ],
   "source": [
    "len(keys)"
   ]
  },
  {
   "cell_type": "code",
   "execution_count": 25,
   "id": "c8796d42",
   "metadata": {
    "execution": {
     "iopub.execute_input": "2025-05-02T21:31:30.721290Z",
     "iopub.status.busy": "2025-05-02T21:31:30.720213Z",
     "iopub.status.idle": "2025-05-02T21:31:30.804048Z",
     "shell.execute_reply": "2025-05-02T21:31:30.803221Z"
    },
    "papermill": {
     "duration": 0.095393,
     "end_time": "2025-05-02T21:31:30.805626",
     "exception": false,
     "start_time": "2025-05-02T21:31:30.710233",
     "status": "completed"
    },
    "tags": []
   },
   "outputs": [],
   "source": [
    "final_df = final_df[~final_df['main_image_id'].isin(keys)]"
   ]
  },
  {
   "cell_type": "markdown",
   "id": "9b24675b",
   "metadata": {
    "papermill": {
     "duration": 0.008934,
     "end_time": "2025-05-02T21:31:30.824124",
     "exception": false,
     "start_time": "2025-05-02T21:31:30.815190",
     "status": "completed"
    },
    "tags": []
   },
   "source": [
    "## Images with other_image_ids containing inconsistent images have been removed"
   ]
  },
  {
   "cell_type": "code",
   "execution_count": 26,
   "id": "ddc08060",
   "metadata": {
    "execution": {
     "iopub.execute_input": "2025-05-02T21:31:30.844513Z",
     "iopub.status.busy": "2025-05-02T21:31:30.843832Z",
     "iopub.status.idle": "2025-05-02T21:31:30.889881Z",
     "shell.execute_reply": "2025-05-02T21:31:30.888893Z"
    },
    "papermill": {
     "duration": 0.058285,
     "end_time": "2025-05-02T21:31:30.891514",
     "exception": false,
     "start_time": "2025-05-02T21:31:30.833229",
     "status": "completed"
    },
    "tags": []
   },
   "outputs": [],
   "source": [
    "final_df.drop(columns=['other_image_id'], inplace=True)"
   ]
  },
  {
   "cell_type": "markdown",
   "id": "7ded0c05",
   "metadata": {
    "papermill": {
     "duration": 0.009488,
     "end_time": "2025-05-02T21:31:30.910440",
     "exception": false,
     "start_time": "2025-05-02T21:31:30.900952",
     "status": "completed"
    },
    "tags": []
   },
   "source": [
    "# Checking for Duplicates"
   ]
  },
  {
   "cell_type": "code",
   "execution_count": 27,
   "id": "950d868b",
   "metadata": {
    "execution": {
     "iopub.execute_input": "2025-05-02T21:31:30.930111Z",
     "iopub.status.busy": "2025-05-02T21:31:30.929827Z",
     "iopub.status.idle": "2025-05-02T21:31:31.746703Z",
     "shell.execute_reply": "2025-05-02T21:31:31.745922Z"
    },
    "papermill": {
     "duration": 0.828574,
     "end_time": "2025-05-02T21:31:31.748141",
     "exception": false,
     "start_time": "2025-05-02T21:31:30.919567",
     "status": "completed"
    },
    "tags": []
   },
   "outputs": [
    {
     "data": {
      "text/plain": [
       "32"
      ]
     },
     "execution_count": 27,
     "metadata": {},
     "output_type": "execute_result"
    }
   ],
   "source": [
    "final_df.duplicated().sum()"
   ]
  },
  {
   "cell_type": "code",
   "execution_count": 28,
   "id": "9d39bd08",
   "metadata": {
    "execution": {
     "iopub.execute_input": "2025-05-02T21:31:31.768051Z",
     "iopub.status.busy": "2025-05-02T21:31:31.767738Z",
     "iopub.status.idle": "2025-05-02T21:31:32.611845Z",
     "shell.execute_reply": "2025-05-02T21:31:32.610889Z"
    },
    "papermill": {
     "duration": 0.856075,
     "end_time": "2025-05-02T21:31:32.613514",
     "exception": false,
     "start_time": "2025-05-02T21:31:31.757439",
     "status": "completed"
    },
    "tags": []
   },
   "outputs": [],
   "source": [
    "final_df.drop_duplicates(inplace = True)"
   ]
  },
  {
   "cell_type": "code",
   "execution_count": 29,
   "id": "dd3943d8",
   "metadata": {
    "execution": {
     "iopub.execute_input": "2025-05-02T21:31:32.633534Z",
     "iopub.status.busy": "2025-05-02T21:31:32.633221Z",
     "iopub.status.idle": "2025-05-02T21:31:33.454005Z",
     "shell.execute_reply": "2025-05-02T21:31:33.453022Z"
    },
    "papermill": {
     "duration": 0.832496,
     "end_time": "2025-05-02T21:31:33.455406",
     "exception": false,
     "start_time": "2025-05-02T21:31:32.622910",
     "status": "completed"
    },
    "tags": []
   },
   "outputs": [
    {
     "data": {
      "text/plain": [
       "0"
      ]
     },
     "execution_count": 29,
     "metadata": {},
     "output_type": "execute_result"
    }
   ],
   "source": [
    "final_df.duplicated().sum()"
   ]
  },
  {
   "cell_type": "markdown",
   "id": "8ff28a10",
   "metadata": {
    "papermill": {
     "duration": 0.008917,
     "end_time": "2025-05-02T21:31:33.473832",
     "exception": false,
     "start_time": "2025-05-02T21:31:33.464915",
     "status": "completed"
    },
    "tags": []
   },
   "source": [
    "# Exporting the Final Data"
   ]
  },
  {
   "cell_type": "code",
   "execution_count": 30,
   "id": "317c5f12",
   "metadata": {
    "execution": {
     "iopub.execute_input": "2025-05-02T21:31:33.493468Z",
     "iopub.status.busy": "2025-05-02T21:31:33.493139Z",
     "iopub.status.idle": "2025-05-02T21:31:42.651175Z",
     "shell.execute_reply": "2025-05-02T21:31:42.650421Z"
    },
    "papermill": {
     "duration": 9.169977,
     "end_time": "2025-05-02T21:31:42.652931",
     "exception": false,
     "start_time": "2025-05-02T21:31:33.482954",
     "status": "completed"
    },
    "tags": []
   },
   "outputs": [],
   "source": [
    "final_df.to_csv(\"complete_metadata.csv\", index=False)"
   ]
  },
  {
   "cell_type": "code",
   "execution_count": 31,
   "id": "5d81327d",
   "metadata": {
    "execution": {
     "iopub.execute_input": "2025-05-02T21:31:42.674743Z",
     "iopub.status.busy": "2025-05-02T21:31:42.673931Z",
     "iopub.status.idle": "2025-05-02T21:31:42.800490Z",
     "shell.execute_reply": "2025-05-02T21:31:42.799632Z"
    },
    "papermill": {
     "duration": 0.139341,
     "end_time": "2025-05-02T21:31:42.802008",
     "exception": false,
     "start_time": "2025-05-02T21:31:42.662667",
     "status": "completed"
    },
    "tags": []
   },
   "outputs": [
    {
     "data": {
      "text/plain": [
       "bullet_point     0\n",
       "color            0\n",
       "item_keywords    0\n",
       "item_name        0\n",
       "main_image_id    0\n",
       "product_type     0\n",
       "path             0\n",
       "dtype: int64"
      ]
     },
     "execution_count": 31,
     "metadata": {},
     "output_type": "execute_result"
    }
   ],
   "source": [
    "final_df.isnull().sum()"
   ]
  },
  {
   "cell_type": "code",
   "execution_count": null,
   "id": "5fa29aba",
   "metadata": {
    "papermill": {
     "duration": 0.009258,
     "end_time": "2025-05-02T21:31:42.821029",
     "exception": false,
     "start_time": "2025-05-02T21:31:42.811771",
     "status": "completed"
    },
    "tags": []
   },
   "outputs": [],
   "source": []
  }
 ],
 "metadata": {
  "kaggle": {
   "accelerator": "none",
   "dataSources": [
    {
     "datasetId": 7233922,
     "sourceId": 11533708,
     "sourceType": "datasetVersion"
    },
    {
     "datasetId": 7241605,
     "sourceId": 11547504,
     "sourceType": "datasetVersion"
    }
   ],
   "dockerImageVersionId": 31012,
   "isGpuEnabled": false,
   "isInternetEnabled": true,
   "language": "python",
   "sourceType": "notebook"
  },
  "kernelspec": {
   "display_name": "Python 3",
   "language": "python",
   "name": "python3"
  },
  "language_info": {
   "codemirror_mode": {
    "name": "ipython",
    "version": 3
   },
   "file_extension": ".py",
   "mimetype": "text/x-python",
   "name": "python",
   "nbconvert_exporter": "python",
   "pygments_lexer": "ipython3",
   "version": "3.11.11"
  },
  "papermill": {
   "default_parameters": {},
   "duration": 58.757525,
   "end_time": "2025-05-02T21:31:43.650922",
   "environment_variables": {},
   "exception": null,
   "input_path": "__notebook__.ipynb",
   "output_path": "__notebook__.ipynb",
   "parameters": {},
   "start_time": "2025-05-02T21:30:44.893397",
   "version": "2.6.0"
  }
 },
 "nbformat": 4,
 "nbformat_minor": 5
}
